{
 "cells": [
  {
   "cell_type": "markdown",
   "id": "3fdf7f89",
   "metadata": {},
   "source": [
    "# MongoDB\n",
    "\n",
    "## Rodar a imagem\n",
    "\n",
    "Obs.: Execute em outro terminal"
   ]
  },
  {
   "cell_type": "code",
   "execution_count": null,
   "id": "72e29f06",
   "metadata": {},
   "outputs": [],
   "source": [
    "docker login\n",
    "docker run -d -p 27017:27017 --name m1 mongo\n",
    "# docker container run --detach --publish 8081:27017 --name mongo mongo:3.4"
   ]
  },
  {
   "cell_type": "markdown",
   "id": "281b90f4",
   "metadata": {},
   "source": [
    "## Instalar pacote"
   ]
  },
  {
   "cell_type": "code",
   "execution_count": 1,
   "id": "0681503b",
   "metadata": {},
   "outputs": [
    {
     "name": "stdout",
     "output_type": "stream",
     "text": [
      "Looking in indexes: https://pypi.org/simple, https://pypi.ngc.nvidia.com\n",
      "Collecting pymongo\n",
      "  Downloading pymongo-4.3.3-cp38-cp38-macosx_10_9_x86_64.whl (381 kB)\n",
      "\u001b[2K     \u001b[90m━━━━━━━━━━━━━━━━━━━━━━━━━━━━━━━━━━━━━━━\u001b[0m \u001b[32m381.9/381.9 kB\u001b[0m \u001b[31m6.2 MB/s\u001b[0m eta \u001b[36m0:00:00\u001b[0ma \u001b[36m0:00:01\u001b[0m\n",
      "\u001b[?25hCollecting dnspython<3.0.0,>=1.16.0\n",
      "  Downloading dnspython-2.3.0-py3-none-any.whl (283 kB)\n",
      "\u001b[2K     \u001b[90m━━━━━━━━━━━━━━━━━━━━━━━━━━━━━━━━━━━━━━━\u001b[0m \u001b[32m283.7/283.7 kB\u001b[0m \u001b[31m7.8 MB/s\u001b[0m eta \u001b[36m0:00:00\u001b[0m\n",
      "\u001b[?25hInstalling collected packages: dnspython, pymongo\n",
      "Successfully installed dnspython-2.3.0 pymongo-4.3.3\n"
     ]
    }
   ],
   "source": [
    "!pip install pymongo"
   ]
  },
  {
   "cell_type": "markdown",
   "id": "2cdd4d85",
   "metadata": {},
   "source": [
    "## Uso"
   ]
  },
  {
   "cell_type": "code",
   "execution_count": 1,
   "id": "71069334",
   "metadata": {},
   "outputs": [],
   "source": [
    "import pymongo\n",
    "\n",
    "# Criando conexão e collections\n",
    "client = pymongo.MongoClient(\"mongodb://localhost:27017/\")\n",
    "db = client[\"customersdb\"] # Cliente\n",
    "customers = db[\"customers\"] # Coluna do collections"
   ]
  },
  {
   "cell_type": "code",
   "execution_count": 2,
   "id": "80682ea4",
   "metadata": {},
   "outputs": [],
   "source": [
    "customers_list = [\n",
    "  { \"name\": \"Amy\", \"address\": \"Apple st 652\"},\n",
    "  { \"name\": \"Hannah\", \"address\": \"Mountain 21\"},\n",
    "  { \"name\": \"Michael\", \"address\": \"Valley 345\"},\n",
    "  { \"name\": \"Sandy\", \"address\": \"Ocean blvd 2\"},\n",
    "  { \"name\": \"Betty\", \"address\": \"Green Grass 1\"},\n",
    "  { \"name\": \"Richard\", \"address\": \"Sky st 331\"},\n",
    "  { \"name\": \"Susan\", \"address\": \"One way 98\"},\n",
    "  { \"name\": \"Vicky\", \"address\": \"Yellow Garden 2\"},\n",
    "  { \"name\": \"Ben\", \"address\": \"Park Lane 38\"},\n",
    "  { \"name\": \"William\", \"address\": \"Central st 954\"},\n",
    "  { \"name\": \"Chuck\", \"address\": \"Main Road 989\"},\n",
    "  { \"name\": \"Viola\", \"address\": \"Sideway 1633\"}\n",
    "]"
   ]
  },
  {
   "cell_type": "markdown",
   "id": "3c40e4d4",
   "metadata": {},
   "source": [
    "## Insert"
   ]
  },
  {
   "cell_type": "code",
   "execution_count": 3,
   "id": "eb5e8f18",
   "metadata": {},
   "outputs": [],
   "source": [
    "x = customers.insert_many(customers_list)"
   ]
  },
  {
   "cell_type": "code",
   "execution_count": 4,
   "id": "f56ecd42",
   "metadata": {},
   "outputs": [
    {
     "name": "stdout",
     "output_type": "stream",
     "text": [
      "[ObjectId('6436b9e7aaabfdcc91bb9a3e'), ObjectId('6436b9e7aaabfdcc91bb9a3f'), ObjectId('6436b9e7aaabfdcc91bb9a40'), ObjectId('6436b9e7aaabfdcc91bb9a41'), ObjectId('6436b9e7aaabfdcc91bb9a42'), ObjectId('6436b9e7aaabfdcc91bb9a43'), ObjectId('6436b9e7aaabfdcc91bb9a44'), ObjectId('6436b9e7aaabfdcc91bb9a45'), ObjectId('6436b9e7aaabfdcc91bb9a46'), ObjectId('6436b9e7aaabfdcc91bb9a47'), ObjectId('6436b9e7aaabfdcc91bb9a48'), ObjectId('6436b9e7aaabfdcc91bb9a49')]\n"
     ]
    }
   ],
   "source": [
    "# print list of the _id values of the inserted documents:\n",
    "print(x.inserted_ids)"
   ]
  },
  {
   "cell_type": "markdown",
   "id": "05acc1aa",
   "metadata": {},
   "source": [
    "## Find"
   ]
  },
  {
   "cell_type": "code",
   "execution_count": 5,
   "id": "1cbbcd6e",
   "metadata": {},
   "outputs": [
    {
     "name": "stdout",
     "output_type": "stream",
     "text": [
      "{'_id': ObjectId('6436b9e7aaabfdcc91bb9a3e'), 'name': 'Amy', 'address': 'Apple st 652'}\n",
      "{'_id': ObjectId('6436b9e7aaabfdcc91bb9a3f'), 'name': 'Hannah', 'address': 'Mountain 21'}\n",
      "{'_id': ObjectId('6436b9e7aaabfdcc91bb9a40'), 'name': 'Michael', 'address': 'Valley 345'}\n",
      "{'_id': ObjectId('6436b9e7aaabfdcc91bb9a41'), 'name': 'Sandy', 'address': 'Ocean blvd 2'}\n",
      "{'_id': ObjectId('6436b9e7aaabfdcc91bb9a42'), 'name': 'Betty', 'address': 'Green Grass 1'}\n",
      "{'_id': ObjectId('6436b9e7aaabfdcc91bb9a43'), 'name': 'Richard', 'address': 'Sky st 331'}\n",
      "{'_id': ObjectId('6436b9e7aaabfdcc91bb9a44'), 'name': 'Susan', 'address': 'One way 98'}\n",
      "{'_id': ObjectId('6436b9e7aaabfdcc91bb9a45'), 'name': 'Vicky', 'address': 'Yellow Garden 2'}\n",
      "{'_id': ObjectId('6436b9e7aaabfdcc91bb9a46'), 'name': 'Ben', 'address': 'Park Lane 38'}\n",
      "{'_id': ObjectId('6436b9e7aaabfdcc91bb9a47'), 'name': 'William', 'address': 'Central st 954'}\n",
      "{'_id': ObjectId('6436b9e7aaabfdcc91bb9a48'), 'name': 'Chuck', 'address': 'Main Road 989'}\n",
      "{'_id': ObjectId('6436b9e7aaabfdcc91bb9a49'), 'name': 'Viola', 'address': 'Sideway 1633'}\n"
     ]
    }
   ],
   "source": [
    "for x in customers.find():\n",
    "    print(x)"
   ]
  },
  {
   "cell_type": "code",
   "execution_count": 6,
   "id": "40901fb9",
   "metadata": {},
   "outputs": [
    {
     "name": "stdout",
     "output_type": "stream",
     "text": [
      "{'_id': ObjectId('6436b9e7aaabfdcc91bb9a3e'), 'name': 'Amy'}\n",
      "{'_id': ObjectId('6436b9e7aaabfdcc91bb9a3f'), 'name': 'Hannah'}\n",
      "{'_id': ObjectId('6436b9e7aaabfdcc91bb9a40'), 'name': 'Michael'}\n",
      "{'_id': ObjectId('6436b9e7aaabfdcc91bb9a41'), 'name': 'Sandy'}\n",
      "{'_id': ObjectId('6436b9e7aaabfdcc91bb9a42'), 'name': 'Betty'}\n",
      "{'_id': ObjectId('6436b9e7aaabfdcc91bb9a43'), 'name': 'Richard'}\n",
      "{'_id': ObjectId('6436b9e7aaabfdcc91bb9a44'), 'name': 'Susan'}\n",
      "{'_id': ObjectId('6436b9e7aaabfdcc91bb9a45'), 'name': 'Vicky'}\n",
      "{'_id': ObjectId('6436b9e7aaabfdcc91bb9a46'), 'name': 'Ben'}\n",
      "{'_id': ObjectId('6436b9e7aaabfdcc91bb9a47'), 'name': 'William'}\n",
      "{'_id': ObjectId('6436b9e7aaabfdcc91bb9a48'), 'name': 'Chuck'}\n",
      "{'_id': ObjectId('6436b9e7aaabfdcc91bb9a49'), 'name': 'Viola'}\n"
     ]
    }
   ],
   "source": [
    "# Selecionar na coluna\n",
    "for x in customers.find({},{\"name\": 1}):\n",
    "    print(x) "
   ]
  },
  {
   "cell_type": "markdown",
   "id": "431d8348",
   "metadata": {},
   "source": [
    "## Query"
   ]
  },
  {
   "cell_type": "code",
   "execution_count": 7,
   "id": "27318fa1",
   "metadata": {},
   "outputs": [
    {
     "name": "stdout",
     "output_type": "stream",
     "text": [
      "{'_id': ObjectId('6436b9e7aaabfdcc91bb9a46'), 'name': 'Ben', 'address': 'Park Lane 38'}\n"
     ]
    }
   ],
   "source": [
    "myquery = {\"address\": \"Park Lane 38\"}\n",
    "\n",
    "mydoc = customers.find(myquery)\n",
    "\n",
    "for x in mydoc:\n",
    "    print(x) "
   ]
  },
  {
   "cell_type": "markdown",
   "id": "4d400e92",
   "metadata": {},
   "source": [
    "## Sort"
   ]
  },
  {
   "cell_type": "code",
   "execution_count": 8,
   "id": "57d4bfa5",
   "metadata": {},
   "outputs": [
    {
     "name": "stdout",
     "output_type": "stream",
     "text": [
      "{'_id': ObjectId('6436b9e7aaabfdcc91bb9a3e'), 'name': 'Amy', 'address': 'Apple st 652'}\n",
      "{'_id': ObjectId('6436b9e7aaabfdcc91bb9a46'), 'name': 'Ben', 'address': 'Park Lane 38'}\n",
      "{'_id': ObjectId('6436b9e7aaabfdcc91bb9a42'), 'name': 'Betty', 'address': 'Green Grass 1'}\n",
      "{'_id': ObjectId('6436b9e7aaabfdcc91bb9a48'), 'name': 'Chuck', 'address': 'Main Road 989'}\n",
      "{'_id': ObjectId('6436b9e7aaabfdcc91bb9a3f'), 'name': 'Hannah', 'address': 'Mountain 21'}\n",
      "{'_id': ObjectId('6436b9e7aaabfdcc91bb9a40'), 'name': 'Michael', 'address': 'Valley 345'}\n",
      "{'_id': ObjectId('6436b9e7aaabfdcc91bb9a43'), 'name': 'Richard', 'address': 'Sky st 331'}\n",
      "{'_id': ObjectId('6436b9e7aaabfdcc91bb9a41'), 'name': 'Sandy', 'address': 'Ocean blvd 2'}\n",
      "{'_id': ObjectId('6436b9e7aaabfdcc91bb9a44'), 'name': 'Susan', 'address': 'One way 98'}\n",
      "{'_id': ObjectId('6436b9e7aaabfdcc91bb9a45'), 'name': 'Vicky', 'address': 'Yellow Garden 2'}\n",
      "{'_id': ObjectId('6436b9e7aaabfdcc91bb9a49'), 'name': 'Viola', 'address': 'Sideway 1633'}\n",
      "{'_id': ObjectId('6436b9e7aaabfdcc91bb9a47'), 'name': 'William', 'address': 'Central st 954'}\n"
     ]
    }
   ],
   "source": [
    "# Ascendente coluna name\n",
    "mydoc = customers.find().sort(\"name\")\n",
    "\n",
    "for x in mydoc:\n",
    "    print(x) "
   ]
  },
  {
   "cell_type": "code",
   "execution_count": 9,
   "id": "44889d26",
   "metadata": {},
   "outputs": [
    {
     "name": "stdout",
     "output_type": "stream",
     "text": [
      "{'_id': ObjectId('6436b9e7aaabfdcc91bb9a3e'), 'name': 'Amy', 'address': 'Apple st 652'}\n",
      "{'_id': ObjectId('6436b9e7aaabfdcc91bb9a47'), 'name': 'William', 'address': 'Central st 954'}\n",
      "{'_id': ObjectId('6436b9e7aaabfdcc91bb9a42'), 'name': 'Betty', 'address': 'Green Grass 1'}\n",
      "{'_id': ObjectId('6436b9e7aaabfdcc91bb9a48'), 'name': 'Chuck', 'address': 'Main Road 989'}\n",
      "{'_id': ObjectId('6436b9e7aaabfdcc91bb9a3f'), 'name': 'Hannah', 'address': 'Mountain 21'}\n",
      "{'_id': ObjectId('6436b9e7aaabfdcc91bb9a41'), 'name': 'Sandy', 'address': 'Ocean blvd 2'}\n",
      "{'_id': ObjectId('6436b9e7aaabfdcc91bb9a44'), 'name': 'Susan', 'address': 'One way 98'}\n",
      "{'_id': ObjectId('6436b9e7aaabfdcc91bb9a46'), 'name': 'Ben', 'address': 'Park Lane 38'}\n",
      "{'_id': ObjectId('6436b9e7aaabfdcc91bb9a49'), 'name': 'Viola', 'address': 'Sideway 1633'}\n",
      "{'_id': ObjectId('6436b9e7aaabfdcc91bb9a43'), 'name': 'Richard', 'address': 'Sky st 331'}\n",
      "{'_id': ObjectId('6436b9e7aaabfdcc91bb9a40'), 'name': 'Michael', 'address': 'Valley 345'}\n",
      "{'_id': ObjectId('6436b9e7aaabfdcc91bb9a45'), 'name': 'Vicky', 'address': 'Yellow Garden 2'}\n"
     ]
    }
   ],
   "source": [
    "# Ascendente coluna address\n",
    "mydoc = customers.find().sort(\"address\")\n",
    "\n",
    "for x in mydoc:\n",
    "    print(x) "
   ]
  },
  {
   "cell_type": "code",
   "execution_count": 10,
   "id": "a47efd1a",
   "metadata": {},
   "outputs": [
    {
     "name": "stdout",
     "output_type": "stream",
     "text": [
      "{'_id': ObjectId('6436b9e7aaabfdcc91bb9a47'), 'name': 'William', 'address': 'Central st 954'}\n",
      "{'_id': ObjectId('6436b9e7aaabfdcc91bb9a49'), 'name': 'Viola', 'address': 'Sideway 1633'}\n",
      "{'_id': ObjectId('6436b9e7aaabfdcc91bb9a45'), 'name': 'Vicky', 'address': 'Yellow Garden 2'}\n",
      "{'_id': ObjectId('6436b9e7aaabfdcc91bb9a44'), 'name': 'Susan', 'address': 'One way 98'}\n",
      "{'_id': ObjectId('6436b9e7aaabfdcc91bb9a41'), 'name': 'Sandy', 'address': 'Ocean blvd 2'}\n",
      "{'_id': ObjectId('6436b9e7aaabfdcc91bb9a43'), 'name': 'Richard', 'address': 'Sky st 331'}\n",
      "{'_id': ObjectId('6436b9e7aaabfdcc91bb9a40'), 'name': 'Michael', 'address': 'Valley 345'}\n",
      "{'_id': ObjectId('6436b9e7aaabfdcc91bb9a3f'), 'name': 'Hannah', 'address': 'Mountain 21'}\n",
      "{'_id': ObjectId('6436b9e7aaabfdcc91bb9a48'), 'name': 'Chuck', 'address': 'Main Road 989'}\n",
      "{'_id': ObjectId('6436b9e7aaabfdcc91bb9a42'), 'name': 'Betty', 'address': 'Green Grass 1'}\n",
      "{'_id': ObjectId('6436b9e7aaabfdcc91bb9a46'), 'name': 'Ben', 'address': 'Park Lane 38'}\n",
      "{'_id': ObjectId('6436b9e7aaabfdcc91bb9a3e'), 'name': 'Amy', 'address': 'Apple st 652'}\n"
     ]
    }
   ],
   "source": [
    "# Descendente coluna name\n",
    "mydoc = customers.find().sort(\"name\", -1)\n",
    "\n",
    "for x in mydoc:\n",
    "    print(x) "
   ]
  },
  {
   "cell_type": "markdown",
   "id": "2a116df4",
   "metadata": {},
   "source": [
    "## Update"
   ]
  },
  {
   "cell_type": "code",
   "execution_count": 11,
   "id": "414d5839",
   "metadata": {},
   "outputs": [
    {
     "name": "stdout",
     "output_type": "stream",
     "text": [
      "{'_id': ObjectId('6436b9e7aaabfdcc91bb9a3e'), 'name': 'Amy', 'address': 'Apple st 652'}\n",
      "{'_id': ObjectId('6436b9e7aaabfdcc91bb9a3f'), 'name': 'Hannah', 'address': 'Mountain 21'}\n",
      "{'_id': ObjectId('6436b9e7aaabfdcc91bb9a40'), 'name': 'Michael', 'address': 'Canyon 123'}\n",
      "{'_id': ObjectId('6436b9e7aaabfdcc91bb9a41'), 'name': 'Sandy', 'address': 'Ocean blvd 2'}\n",
      "{'_id': ObjectId('6436b9e7aaabfdcc91bb9a42'), 'name': 'Betty', 'address': 'Green Grass 1'}\n",
      "{'_id': ObjectId('6436b9e7aaabfdcc91bb9a43'), 'name': 'Richard', 'address': 'Sky st 331'}\n",
      "{'_id': ObjectId('6436b9e7aaabfdcc91bb9a44'), 'name': 'Susan', 'address': 'One way 98'}\n",
      "{'_id': ObjectId('6436b9e7aaabfdcc91bb9a45'), 'name': 'Vicky', 'address': 'Yellow Garden 2'}\n",
      "{'_id': ObjectId('6436b9e7aaabfdcc91bb9a46'), 'name': 'Ben', 'address': 'Park Lane 38'}\n",
      "{'_id': ObjectId('6436b9e7aaabfdcc91bb9a47'), 'name': 'William', 'address': 'Central st 954'}\n",
      "{'_id': ObjectId('6436b9e7aaabfdcc91bb9a48'), 'name': 'Chuck', 'address': 'Main Road 989'}\n",
      "{'_id': ObjectId('6436b9e7aaabfdcc91bb9a49'), 'name': 'Viola', 'address': 'Sideway 1633'}\n"
     ]
    }
   ],
   "source": [
    "myquery = { \"address\": \"Valley 345\" }\n",
    "newvalues = { \"$set\": { \"address\": \"Canyon 123\" } }\n",
    "\n",
    "customers.update_one(myquery, newvalues)\n",
    "\n",
    "#print \"customers\" after the update:\n",
    "for x in customers.find():\n",
    "  print(x) "
   ]
  },
  {
   "cell_type": "code",
   "execution_count": 13,
   "id": "0cbbfa15",
   "metadata": {},
   "outputs": [
    {
     "name": "stdout",
     "output_type": "stream",
     "text": [
      "{'_id': ObjectId('6436b9e7aaabfdcc91bb9a3e'), 'name': 'Amy', 'address': 'Apple st 652'}\n",
      "{'_id': ObjectId('6436b9e7aaabfdcc91bb9a3f'), 'name': 'Hannah', 'address': 'Mountain 21'}\n",
      "{'_id': ObjectId('6436b9e7aaabfdcc91bb9a40'), 'name': 'Michael', 'address': 'Canyon 123'}\n",
      "{'_id': ObjectId('6436b9e7aaabfdcc91bb9a41'), 'name': 'Sandy', 'address': 'Ocean blvd 2'}\n",
      "{'_id': ObjectId('6436b9e7aaabfdcc91bb9a42'), 'name': 'Betty', 'address': 'Green Grass 1'}\n"
     ]
    }
   ],
   "source": [
    "# Limit\n",
    "myresult = customers.find().limit(5)\n",
    "\n",
    "#print the result:\n",
    "for x in myresult:\n",
    "  print(x)"
   ]
  },
  {
   "cell_type": "markdown",
   "id": "f5bb5f80",
   "metadata": {},
   "source": [
    "## Delete"
   ]
  },
  {
   "cell_type": "code",
   "execution_count": 14,
   "id": "3418696c",
   "metadata": {},
   "outputs": [],
   "source": [
    "# Valor especificado, um documento\n",
    "myquery = { \"address\": \"Mountain 21\" }\n",
    "\n",
    "x = customers.delete_one(myquery) "
   ]
  },
  {
   "cell_type": "code",
   "execution_count": 15,
   "id": "2c4278bc",
   "metadata": {},
   "outputs": [
    {
     "name": "stdout",
     "output_type": "stream",
     "text": [
      "1  documents deleted.\n"
     ]
    }
   ],
   "source": [
    "print(x.deleted_count, \" documents deleted.\")"
   ]
  },
  {
   "cell_type": "code",
   "execution_count": 16,
   "id": "274574e9",
   "metadata": {},
   "outputs": [
    {
     "name": "stdout",
     "output_type": "stream",
     "text": [
      "{'_id': ObjectId('6436b9e7aaabfdcc91bb9a3e'), 'name': 'Amy', 'address': 'Apple st 652'}\n",
      "{'_id': ObjectId('6436b9e7aaabfdcc91bb9a46'), 'name': 'Ben', 'address': 'Park Lane 38'}\n",
      "{'_id': ObjectId('6436b9e7aaabfdcc91bb9a42'), 'name': 'Betty', 'address': 'Green Grass 1'}\n",
      "{'_id': ObjectId('6436b9e7aaabfdcc91bb9a48'), 'name': 'Chuck', 'address': 'Main Road 989'}\n",
      "{'_id': ObjectId('6436b9e7aaabfdcc91bb9a40'), 'name': 'Michael', 'address': 'Canyon 123'}\n",
      "{'_id': ObjectId('6436b9e7aaabfdcc91bb9a43'), 'name': 'Richard', 'address': 'Sky st 331'}\n",
      "{'_id': ObjectId('6436b9e7aaabfdcc91bb9a41'), 'name': 'Sandy', 'address': 'Ocean blvd 2'}\n",
      "{'_id': ObjectId('6436b9e7aaabfdcc91bb9a44'), 'name': 'Susan', 'address': 'One way 98'}\n",
      "{'_id': ObjectId('6436b9e7aaabfdcc91bb9a45'), 'name': 'Vicky', 'address': 'Yellow Garden 2'}\n",
      "{'_id': ObjectId('6436b9e7aaabfdcc91bb9a49'), 'name': 'Viola', 'address': 'Sideway 1633'}\n",
      "{'_id': ObjectId('6436b9e7aaabfdcc91bb9a47'), 'name': 'William', 'address': 'Central st 954'}\n"
     ]
    }
   ],
   "source": [
    "mydoc = customers.find().sort(\"name\", 1)\n",
    "\n",
    "for x in mydoc:\n",
    "    print(x) "
   ]
  },
  {
   "cell_type": "code",
   "execution_count": 17,
   "id": "3dc2b19b",
   "metadata": {},
   "outputs": [
    {
     "name": "stdout",
     "output_type": "stream",
     "text": [
      "2  documents deleted.\n"
     ]
    }
   ],
   "source": [
    "# Delete multiplos, no caso iniciados com 'S'\n",
    "\n",
    "myquery = { \"address\": {\"$regex\": \"^S\"} }\n",
    "\n",
    "x = customers.delete_many(myquery)\n",
    "\n",
    "print(x.deleted_count, \" documents deleted.\") "
   ]
  },
  {
   "cell_type": "code",
   "execution_count": 18,
   "id": "3bd8219d",
   "metadata": {},
   "outputs": [
    {
     "name": "stdout",
     "output_type": "stream",
     "text": [
      "{'_id': ObjectId('6436b9e7aaabfdcc91bb9a3e'), 'name': 'Amy', 'address': 'Apple st 652'}\n",
      "{'_id': ObjectId('6436b9e7aaabfdcc91bb9a46'), 'name': 'Ben', 'address': 'Park Lane 38'}\n",
      "{'_id': ObjectId('6436b9e7aaabfdcc91bb9a42'), 'name': 'Betty', 'address': 'Green Grass 1'}\n",
      "{'_id': ObjectId('6436b9e7aaabfdcc91bb9a48'), 'name': 'Chuck', 'address': 'Main Road 989'}\n",
      "{'_id': ObjectId('6436b9e7aaabfdcc91bb9a40'), 'name': 'Michael', 'address': 'Canyon 123'}\n",
      "{'_id': ObjectId('6436b9e7aaabfdcc91bb9a41'), 'name': 'Sandy', 'address': 'Ocean blvd 2'}\n",
      "{'_id': ObjectId('6436b9e7aaabfdcc91bb9a44'), 'name': 'Susan', 'address': 'One way 98'}\n",
      "{'_id': ObjectId('6436b9e7aaabfdcc91bb9a45'), 'name': 'Vicky', 'address': 'Yellow Garden 2'}\n",
      "{'_id': ObjectId('6436b9e7aaabfdcc91bb9a47'), 'name': 'William', 'address': 'Central st 954'}\n"
     ]
    }
   ],
   "source": [
    "mydoc = customers.find().sort(\"name\", 1)\n",
    "\n",
    "for x in mydoc:\n",
    "    print(x) "
   ]
  },
  {
   "cell_type": "code",
   "execution_count": 19,
   "id": "8557e366",
   "metadata": {},
   "outputs": [
    {
     "name": "stdout",
     "output_type": "stream",
     "text": [
      "9  documents deleted.\n"
     ]
    }
   ],
   "source": [
    "# Deletar tudo\n",
    "\n",
    "x = customers.delete_many({})\n",
    "\n",
    "print(x.deleted_count, \" documents deleted.\")"
   ]
  },
  {
   "cell_type": "code",
   "execution_count": 20,
   "id": "a2ba091b",
   "metadata": {},
   "outputs": [],
   "source": [
    "mydoc = customers.find().sort(\"name\", 1)\n",
    "\n",
    "for x in mydoc:\n",
    "    print(x) "
   ]
  },
  {
   "cell_type": "markdown",
   "id": "d8b31985",
   "metadata": {},
   "source": [
    "## Drop Collection"
   ]
  },
  {
   "cell_type": "code",
   "execution_count": 21,
   "id": "e9bb85a5",
   "metadata": {},
   "outputs": [],
   "source": [
    "customers.drop()\n",
    "\n",
    "mydoc = customers.find().sort(\"name\", 1)\n",
    "\n",
    "for x in mydoc:\n",
    "    print(x)"
   ]
  },
  {
   "cell_type": "markdown",
   "id": "b68f7be3",
   "metadata": {},
   "source": [
    "## Unique index\n",
    "\n",
    "db.collection.createIndex( <key and index type specification>, { unique: true }"
   ]
  },
  {
   "cell_type": "code",
   "execution_count": 62,
   "id": "b452d7f9",
   "metadata": {},
   "outputs": [
    {
     "data": {
      "text/plain": [
       "'Username_text_Email_1'"
      ]
     },
     "execution_count": 62,
     "metadata": {},
     "output_type": "execute_result"
    }
   ],
   "source": [
    "info = db[\"info\"] # Coluna do collections\n",
    "info.create_index( [(\"Username\", pymongo.TEXT), (\"Email\", pymongo.ASCENDING)],unique=True)"
   ]
  },
  {
   "cell_type": "code",
   "execution_count": 63,
   "id": "05658a3c",
   "metadata": {},
   "outputs": [
    {
     "data": {
      "text/plain": [
       "['info', 'members']"
      ]
     },
     "execution_count": 63,
     "metadata": {},
     "output_type": "execute_result"
    }
   ],
   "source": [
    "# Listar collections\n",
    "db.list_collection_names()"
   ]
  },
  {
   "cell_type": "code",
   "execution_count": 64,
   "id": "549993f1",
   "metadata": {},
   "outputs": [
    {
     "data": {
      "text/plain": [
       "<pymongo.results.InsertOneResult at 0x7fe3615f30a0>"
      ]
     },
     "execution_count": 64,
     "metadata": {},
     "output_type": "execute_result"
    }
   ],
   "source": [
    "mydict = { \"Username\": \"userA\",\"Email\": \"emailA@example.com\"}\n",
    "info.insert_one(mydict)"
   ]
  },
  {
   "cell_type": "code",
   "execution_count": 65,
   "id": "f796f520",
   "metadata": {},
   "outputs": [
    {
     "data": {
      "text/plain": [
       "<pymongo.results.InsertOneResult at 0x7fe3615f3160>"
      ]
     },
     "execution_count": 65,
     "metadata": {},
     "output_type": "execute_result"
    }
   ],
   "source": [
    "mydict = { \"Username\": \"userB\",\"Email\": \"emailA@example.com\"}\n",
    "info.insert_one(mydict)"
   ]
  },
  {
   "cell_type": "code",
   "execution_count": 66,
   "id": "bad8c897",
   "metadata": {},
   "outputs": [
    {
     "name": "stdout",
     "output_type": "stream",
     "text": [
      "{'_id': ObjectId('6436bd01aaabfdcc91bb9a5a'), 'Username': 'userA', 'Email': 'emailA@example.com'}\n",
      "{'_id': ObjectId('6436bd02aaabfdcc91bb9a5b'), 'Username': 'userB', 'Email': 'emailA@example.com'}\n"
     ]
    }
   ],
   "source": [
    "mydoc = info.find().sort(\"Username\", 1)\n",
    "\n",
    "for x in mydoc:\n",
    "    print(x) "
   ]
  },
  {
   "cell_type": "code",
   "execution_count": 67,
   "id": "400bd36e",
   "metadata": {
    "scrolled": true
   },
   "outputs": [
    {
     "name": "stdout",
     "output_type": "stream",
     "text": [
      "Chave duplicada\n"
     ]
    }
   ],
   "source": [
    "mydict = { \"Username\": \"userA\",\"Email\": \"emailA@example.com\"}\n",
    "try:\n",
    "    info.insert_one(mydict)\n",
    "except pymongo.errors.DuplicateKeyError:\n",
    "    print('Chave duplicada')\n"
   ]
  },
  {
   "cell_type": "code",
   "execution_count": 68,
   "id": "5f97afd8",
   "metadata": {},
   "outputs": [],
   "source": [
    "# drop collection\n",
    "info.drop()"
   ]
  },
  {
   "cell_type": "code",
   "execution_count": null,
   "id": "11398f24",
   "metadata": {},
   "outputs": [],
   "source": []
  }
 ],
 "metadata": {
  "kernelspec": {
   "display_name": "Python 3 (ipykernel)",
   "language": "python",
   "name": "python3"
  },
  "language_info": {
   "codemirror_mode": {
    "name": "ipython",
    "version": 3
   },
   "file_extension": ".py",
   "mimetype": "text/x-python",
   "name": "python",
   "nbconvert_exporter": "python",
   "pygments_lexer": "ipython3",
   "version": "3.8.10"
  }
 },
 "nbformat": 4,
 "nbformat_minor": 5
}
