{
 "cells": [
  {
   "cell_type": "markdown",
   "id": "8bf64084",
   "metadata": {},
   "source": [
    "# Instalar redis no python"
   ]
  },
  {
   "cell_type": "code",
   "execution_count": 2,
   "id": "4aaa460a",
   "metadata": {},
   "outputs": [
    {
     "name": "stdout",
     "output_type": "stream",
     "text": [
      "Looking in indexes: https://pypi.org/simple, https://pypi.ngc.nvidia.com\n",
      "Collecting redis\n",
      "  Downloading redis-5.0.1-py3-none-any.whl (250 kB)\n",
      "\u001b[2K     \u001b[90m━━━━━━━━━━━━━━━━━━━━━━━━━━━━━━━━━━━━━━━\u001b[0m \u001b[32m250.3/250.3 kB\u001b[0m \u001b[31m7.2 MB/s\u001b[0m eta \u001b[36m0:00:00\u001b[0m\n",
      "\u001b[?25hCollecting async-timeout>=4.0.2\n",
      "  Downloading async_timeout-4.0.3-py3-none-any.whl (5.7 kB)\n",
      "Installing collected packages: async-timeout, redis\n",
      "Successfully installed async-timeout-4.0.3 redis-5.0.1\n",
      "\n",
      "\u001b[1m[\u001b[0m\u001b[34;49mnotice\u001b[0m\u001b[1;39;49m]\u001b[0m\u001b[39;49m A new release of pip available: \u001b[0m\u001b[31;49m22.3.1\u001b[0m\u001b[39;49m -> \u001b[0m\u001b[32;49m23.3\u001b[0m\n",
      "\u001b[1m[\u001b[0m\u001b[34;49mnotice\u001b[0m\u001b[1;39;49m]\u001b[0m\u001b[39;49m To update, run: \u001b[0m\u001b[32;49mpip install --upgrade pip\u001b[0m\n"
     ]
    }
   ],
   "source": [
    "!pip install redis"
   ]
  },
  {
   "cell_type": "code",
   "execution_count": 3,
   "id": "8b442bff",
   "metadata": {},
   "outputs": [
    {
     "name": "stdout",
     "output_type": "stream",
     "text": [
      "Looking in indexes: https://pypi.org/simple, https://pypi.ngc.nvidia.com\n",
      "Requirement already satisfied: redis[hiredis] in /Users/emersonjeandasilva/fontes.bb/nia/nia-avaliador-modelos-gateway/nia-avaliador-modelos-gateway/venv/lib/python3.10/site-packages (5.0.1)\n",
      "Requirement already satisfied: async-timeout>=4.0.2 in /Users/emersonjeandasilva/fontes.bb/nia/nia-avaliador-modelos-gateway/nia-avaliador-modelos-gateway/venv/lib/python3.10/site-packages (from redis[hiredis]) (4.0.3)\n",
      "Collecting hiredis>=1.0.0\n",
      "  Downloading hiredis-2.2.3-cp310-cp310-macosx_10_12_x86_64.whl (44 kB)\n",
      "\u001b[2K     \u001b[90m━━━━━━━━━━━━━━━━━━━━━━━━━━━━━━━━━━━━━━━━\u001b[0m \u001b[32m44.9/44.9 kB\u001b[0m \u001b[31m4.4 MB/s\u001b[0m eta \u001b[36m0:00:00\u001b[0m\n",
      "\u001b[?25hInstalling collected packages: hiredis\n",
      "Successfully installed hiredis-2.2.3\n",
      "\n",
      "\u001b[1m[\u001b[0m\u001b[34;49mnotice\u001b[0m\u001b[1;39;49m]\u001b[0m\u001b[39;49m A new release of pip available: \u001b[0m\u001b[31;49m22.3.1\u001b[0m\u001b[39;49m -> \u001b[0m\u001b[32;49m23.3\u001b[0m\n",
      "\u001b[1m[\u001b[0m\u001b[34;49mnotice\u001b[0m\u001b[1;39;49m]\u001b[0m\u001b[39;49m To update, run: \u001b[0m\u001b[32;49mpip install --upgrade pip\u001b[0m\n"
     ]
    }
   ],
   "source": [
    "!pip install \"redis[hiredis]\""
   ]
  },
  {
   "cell_type": "markdown",
   "id": "57f055e9",
   "metadata": {},
   "source": [
    "# Rodar redis em um conteiner\n",
    "\n",
    "Obs: Rodar em um terminal a parte!"
   ]
  },
  {
   "cell_type": "code",
   "execution_count": 1,
   "id": "beee7562",
   "metadata": {},
   "outputs": [
    {
     "name": "stdout",
     "output_type": "stream",
     "text": [
      "Authenticating with existing credentials...\n",
      "Login Succeeded\n",
      "\n",
      "Logging in with your password grants your terminal complete access to your account. \n",
      "For better security, log in with a limited-privilege personal access token. Learn more at https://docs.docker.com/go/access-tokens/\n"
     ]
    }
   ],
   "source": [
    "!docker login"
   ]
  },
  {
   "cell_type": "code",
   "execution_count": 2,
   "id": "e2dda16b",
   "metadata": {},
   "outputs": [
    {
     "name": "stdout",
     "output_type": "stream",
     "text": [
      "9:C 11 Apr 2023 20:56:25.355 # oO0OoO0OoO0Oo Redis is starting oO0OoO0OoO0Oo\n",
      "9:C 11 Apr 2023 20:56:25.355 # Redis version=6.2.11, bits=64, commit=00000000, modified=0, pid=9, just started\n",
      "9:C 11 Apr 2023 20:56:25.355 # Configuration loaded\n",
      "9:M 11 Apr 2023 20:56:25.356 * monotonic clock: POSIX clock_gettime\n",
      "                _._                                                  \n",
      "           _.-``__ ''-._                                             \n",
      "      _.-``    `.  `_.  ''-._           Redis 6.2.11 (00000000/0) 64 bit\n",
      "  .-`` .-```.  ```\\/    _.,_ ''-._                                  \n",
      " (    '      ,       .-`  | `,    )     Running in standalone mode\n",
      " |`-._`-...-` __...-.``-._|'` _.-'|     Port: 6379\n",
      " |    `-._   `._    /     _.-'    |     PID: 9\n",
      "  `-._    `-._  `-./  _.-'    _.-'                                   \n",
      " |`-._`-._    `-.__.-'    _.-'_.-'|                                  \n",
      " |    `-._`-._        _.-'_.-'    |           https://redis.io       \n",
      "  `-._    `-._`-.__.-'_.-'    _.-'                                   \n",
      " |`-._`-._    `-.__.-'    _.-'_.-'|                                  \n",
      " |    `-._`-._        _.-'_.-'    |                                  \n",
      "  `-._    `-._`-.__.-'_.-'    _.-'                                   \n",
      "      `-._    `-.__.-'    _.-'                                       \n",
      "          `-._        _.-'                                           \n",
      "              `-.__.-'                                               \n",
      "\n",
      "9:M 11 Apr 2023 20:56:25.357 # Server initialized\n",
      "9:M 11 Apr 2023 20:56:25.360 * <search> Redis version found by RedisSearch : 6.2.11 - oss\n",
      "9:M 11 Apr 2023 20:56:25.360 * <search> RediSearch version 2.6.6 (Git=HEAD-d0efac20)\n",
      "9:M 11 Apr 2023 20:56:25.360 * <search> Low level api version 1 initialized successfully\n",
      "9:M 11 Apr 2023 20:56:25.360 * <search> concurrent writes: OFF, gc: ON, prefix min length: 2, prefix max expansions: 200, query timeout (ms): 500, timeout policy: return, cursor read size: 1000, cursor max idle (ms): 300000, max doctable size: 1000000, max number of search results:  10000, search pool size: 20, index pool size: 8, \n",
      "9:M 11 Apr 2023 20:56:25.361 * <search> Initialized thread pool!\n",
      "9:M 11 Apr 2023 20:56:25.361 * <search> Enabled diskless replication\n",
      "9:M 11 Apr 2023 20:56:25.361 * <search> Enabled role change notification\n",
      "9:M 11 Apr 2023 20:56:25.361 * Module 'search' loaded from /opt/redis-stack/lib/redisearch.so\n",
      "9:M 11 Apr 2023 20:56:25.365 * <graph> Enabled role change notification\n",
      "9:M 11 Apr 2023 20:56:25.365 * <graph> Starting up RedisGraph version 2.10.9.\n",
      "9:M 11 Apr 2023 20:56:25.366 * <graph> Thread pool created, using 6 threads.\n",
      "9:M 11 Apr 2023 20:56:25.366 * <graph> Maximum number of OpenMP threads set to 6\n",
      "9:M 11 Apr 2023 20:56:25.366 * Module 'graph' loaded from /opt/redis-stack/lib/redisgraph.so\n",
      "9:M 11 Apr 2023 20:56:25.366 * <timeseries> RedisTimeSeries version 10809, git_sha=015d42922d9c20988b77c93dc7329ad44e1f7a67\n",
      "9:M 11 Apr 2023 20:56:25.366 * <timeseries> Redis version found by RedisTimeSeries : 6.2.11 - oss\n",
      "9:M 11 Apr 2023 20:56:25.366 * <timeseries> loaded default CHUNK_SIZE_BYTES policy: 4096\n",
      "9:M 11 Apr 2023 20:56:25.366 * <timeseries> loaded server DUPLICATE_POLICY: block\n",
      "9:M 11 Apr 2023 20:56:25.366 * <timeseries> Setting default series ENCODING to: compressed\n",
      "9:M 11 Apr 2023 20:56:25.367 * <timeseries> Detected redis oss\n",
      "9:M 11 Apr 2023 20:56:25.369 * <timeseries> Enabled diskless replication\n",
      "9:M 11 Apr 2023 20:56:25.369 * Module 'timeseries' loaded from /opt/redis-stack/lib/redistimeseries.so\n",
      "9:M 11 Apr 2023 20:56:25.369 * <ReJSON> version: 20406 git sha: 22ced40 branch: HEAD\n",
      "9:M 11 Apr 2023 20:56:25.369 * <ReJSON> Exported RedisJSON_V1 API\n",
      "9:M 11 Apr 2023 20:56:25.369 * <ReJSON> Exported RedisJSON_V2 API\n",
      "9:M 11 Apr 2023 20:56:25.369 * <ReJSON> Exported RedisJSON_V3 API\n",
      "9:M 11 Apr 2023 20:56:25.369 * <ReJSON> Enabled diskless replication\n",
      "9:M 11 Apr 2023 20:56:25.369 * <ReJSON> Created new data type 'ReJSON-RL'\n",
      "9:M 11 Apr 2023 20:56:25.369 * Module 'ReJSON' loaded from /opt/redis-stack/lib/rejson.so\n",
      "9:M 11 Apr 2023 20:56:25.369 * <search> Acquired RedisJSON_V3 API\n",
      "9:M 11 Apr 2023 20:56:25.369 * <graph> Acquired RedisJSON_V1 API\n",
      "9:M 11 Apr 2023 20:56:25.370 * <bf> RedisBloom version 2.4.5 (Git=unknown)\n",
      "9:M 11 Apr 2023 20:56:25.370 * Module 'bf' loaded from /opt/redis-stack/lib/redisbloom.so\n",
      "9:M 11 Apr 2023 20:56:25.370 * Ready to accept connections\n",
      "^C\n",
      "9:signal-handler (1681246727) Received SIGINT scheduling shutdown...\n",
      "9:M 11 Apr 2023 20:58:47.826 # User requested shutdown...\n",
      "9:M 11 Apr 2023 20:58:47.826 * Saving the final RDB snapshot before exiting.\n",
      "9:M 11 Apr 2023 20:58:47.828 * DB saved on disk\n",
      "9:M 11 Apr 2023 20:58:47.828 # Redis is now ready to exit, bye bye...\n"
     ]
    }
   ],
   "source": [
    "!docker run -p 6379:6379 -it redis/redis-stack:latest"
   ]
  },
  {
   "cell_type": "markdown",
   "id": "1bcab4c1",
   "metadata": {},
   "source": [
    "# Execute"
   ]
  },
  {
   "cell_type": "markdown",
   "id": "1f77c591",
   "metadata": {},
   "source": [
    "## Connect to Redis"
   ]
  },
  {
   "cell_type": "code",
   "execution_count": 4,
   "id": "2f1074de",
   "metadata": {},
   "outputs": [],
   "source": [
    "import redis\n",
    "r = redis.Redis(host='localhost', port=6379, db=0)"
   ]
  },
  {
   "cell_type": "markdown",
   "id": "1f25a4a8",
   "metadata": {},
   "source": [
    "## Sets\n",
    "\n",
    "Usa sets, chave de valor único"
   ]
  },
  {
   "cell_type": "code",
   "execution_count": 5,
   "id": "670d1602",
   "metadata": {},
   "outputs": [
    {
     "data": {
      "text/plain": [
       "True"
      ]
     },
     "execution_count": 5,
     "metadata": {},
     "output_type": "execute_result"
    }
   ],
   "source": [
    "# Permite inserir chave unica, sobreescrevendo se ja existe\n",
    "r.set('foo', 'bar')"
   ]
  },
  {
   "cell_type": "code",
   "execution_count": 6,
   "id": "627215e2",
   "metadata": {},
   "outputs": [
    {
     "data": {
      "text/plain": [
       "b'bar'"
      ]
     },
     "execution_count": 6,
     "metadata": {},
     "output_type": "execute_result"
    }
   ],
   "source": [
    "r.get('foo')"
   ]
  },
  {
   "cell_type": "code",
   "execution_count": 7,
   "id": "eeac6d89",
   "metadata": {},
   "outputs": [
    {
     "data": {
      "text/plain": [
       "b'bar2'"
      ]
     },
     "execution_count": 7,
     "metadata": {},
     "output_type": "execute_result"
    }
   ],
   "source": [
    "r.set('foo', 'bar2')\n",
    "r.get('foo')"
   ]
  },
  {
   "cell_type": "code",
   "execution_count": 8,
   "id": "7874520e",
   "metadata": {},
   "outputs": [
    {
     "data": {
      "text/plain": [
       "b'ipsum'"
      ]
     },
     "execution_count": 8,
     "metadata": {},
     "output_type": "execute_result"
    }
   ],
   "source": [
    "# Multiplas entradas\n",
    "data = {\n",
    "    'hello': 'world',\n",
    "    'lorem': 'ipsum'\n",
    "}\n",
    "r.mset(data)\n",
    "\n",
    "r.get('lorem') # b'ipsum'"
   ]
  },
  {
   "cell_type": "code",
   "execution_count": 9,
   "id": "f92185b4",
   "metadata": {},
   "outputs": [
    {
     "data": {
      "text/plain": [
       "1"
      ]
     },
     "execution_count": 9,
     "metadata": {},
     "output_type": "execute_result"
    }
   ],
   "source": [
    "r.exists(\"lorem\")"
   ]
  },
  {
   "cell_type": "code",
   "execution_count": 10,
   "id": "a8b11ba3",
   "metadata": {},
   "outputs": [
    {
     "data": {
      "text/plain": [
       "1"
      ]
     },
     "execution_count": 10,
     "metadata": {},
     "output_type": "execute_result"
    }
   ],
   "source": [
    "# Delete\n",
    "r.delete('lorem')"
   ]
  },
  {
   "cell_type": "code",
   "execution_count": 11,
   "id": "e3238263",
   "metadata": {},
   "outputs": [],
   "source": [
    "r.get('lorem')"
   ]
  },
  {
   "cell_type": "code",
   "execution_count": 12,
   "id": "7fc76bf2",
   "metadata": {},
   "outputs": [
    {
     "data": {
      "text/plain": [
       "0"
      ]
     },
     "execution_count": 12,
     "metadata": {},
     "output_type": "execute_result"
    }
   ],
   "source": [
    "r.exists(\"lorem\")"
   ]
  },
  {
   "cell_type": "code",
   "execution_count": 13,
   "id": "67d03c86",
   "metadata": {},
   "outputs": [
    {
     "data": {
      "text/plain": [
       "True"
      ]
     },
     "execution_count": 13,
     "metadata": {},
     "output_type": "execute_result"
    }
   ],
   "source": [
    "# Usar json para serializar os objetos como texto\n",
    "import json\n",
    "personal_information = {\n",
    "    'name': 'Rahul',\n",
    "    'age': 20,\n",
    "    'address':{\n",
    "        'house_no': 189,\n",
    "        'flat_name': 'Golden Flower',\n",
    "        'area': 'Guindy'\n",
    "    },\n",
    "    'languages_known': ['english', 'hindi', 'tamil']\n",
    "}\n",
    "r.set('personal_information', json.dumps(personal_information))"
   ]
  },
  {
   "cell_type": "code",
   "execution_count": 14,
   "id": "a4acef7c",
   "metadata": {},
   "outputs": [
    {
     "data": {
      "text/plain": [
       "{'name': 'Rahul',\n",
       " 'age': 20,\n",
       " 'address': {'house_no': 189, 'flat_name': 'Golden Flower', 'area': 'Guindy'},\n",
       " 'languages_known': ['english', 'hindi', 'tamil']}"
      ]
     },
     "execution_count": 14,
     "metadata": {},
     "output_type": "execute_result"
    }
   ],
   "source": [
    "json.loads(r.get('personal_information'))"
   ]
  },
  {
   "cell_type": "markdown",
   "id": "ab4f92a0",
   "metadata": {},
   "source": [
    "### Pipelines"
   ]
  },
  {
   "cell_type": "code",
   "execution_count": 15,
   "id": "5f949ec8",
   "metadata": {},
   "outputs": [
    {
     "data": {
      "text/plain": [
       "[True, True, True]"
      ]
     },
     "execution_count": 15,
     "metadata": {},
     "output_type": "execute_result"
    }
   ],
   "source": [
    "pipe = r.pipeline()\n",
    "pipe.set('foo', 5)\n",
    "pipe.set('bar', 18.5)\n",
    "pipe.set('blee', \"hello world!\")\n",
    "pipe.execute()"
   ]
  },
  {
   "cell_type": "markdown",
   "id": "226f748b",
   "metadata": {},
   "source": [
    "### SADD"
   ]
  },
  {
   "cell_type": "code",
   "execution_count": 16,
   "id": "419e4c44",
   "metadata": {},
   "outputs": [
    {
     "data": {
      "text/plain": [
       "1"
      ]
     },
     "execution_count": 16,
     "metadata": {},
     "output_type": "execute_result"
    }
   ],
   "source": [
    "r.sadd('ferramentas', 'martelo')\n",
    "r.sadd('ferramentas', 'serrote')\n",
    "r.sadd('ferramentas', 'machado')"
   ]
  },
  {
   "cell_type": "code",
   "execution_count": 17,
   "id": "224bcd61",
   "metadata": {},
   "outputs": [
    {
     "data": {
      "text/plain": [
       "0"
      ]
     },
     "execution_count": 17,
     "metadata": {},
     "output_type": "execute_result"
    }
   ],
   "source": [
    "r.sadd('ferramentas', 'martelo')"
   ]
  },
  {
   "cell_type": "code",
   "execution_count": 18,
   "id": "c3e0b2d0",
   "metadata": {},
   "outputs": [
    {
     "data": {
      "text/plain": [
       "{b'machado', b'martelo', b'serrote'}"
      ]
     },
     "execution_count": 18,
     "metadata": {},
     "output_type": "execute_result"
    }
   ],
   "source": [
    "# Mostrar\n",
    "r.smembers('ferramentas')"
   ]
  },
  {
   "cell_type": "code",
   "execution_count": 19,
   "id": "3cde53d4",
   "metadata": {},
   "outputs": [
    {
     "data": {
      "text/plain": [
       "1"
      ]
     },
     "execution_count": 19,
     "metadata": {},
     "output_type": "execute_result"
    }
   ],
   "source": [
    "# Apagar\n",
    "r.delete('ferramentas')"
   ]
  },
  {
   "cell_type": "code",
   "execution_count": 20,
   "id": "77c6046c",
   "metadata": {},
   "outputs": [
    {
     "data": {
      "text/plain": [
       "set()"
      ]
     },
     "execution_count": 20,
     "metadata": {},
     "output_type": "execute_result"
    }
   ],
   "source": [
    "# Mostrar\n",
    "r.smembers('ferramentas')"
   ]
  },
  {
   "cell_type": "code",
   "execution_count": 21,
   "id": "e8dcd9af",
   "metadata": {},
   "outputs": [
    {
     "data": {
      "text/plain": [
       "4"
      ]
     },
     "execution_count": 21,
     "metadata": {},
     "output_type": "execute_result"
    }
   ],
   "source": [
    "# Multiplas\n",
    "fruits = [\"avocado\",  \"strawberry\", \"strawberry\", \"mango\", \"orange\"]\n",
    "r.sadd('fruits', *fruits)"
   ]
  },
  {
   "cell_type": "code",
   "execution_count": 22,
   "id": "a14eee9f",
   "metadata": {},
   "outputs": [
    {
     "data": {
      "text/plain": [
       "{b'avocado', b'mango', b'orange', b'strawberry'}"
      ]
     },
     "execution_count": 22,
     "metadata": {},
     "output_type": "execute_result"
    }
   ],
   "source": [
    "r.smembers('fruits')"
   ]
  },
  {
   "cell_type": "code",
   "execution_count": 23,
   "id": "c99fadcf",
   "metadata": {},
   "outputs": [
    {
     "data": {
      "text/plain": [
       "b'Ram'"
      ]
     },
     "execution_count": 23,
     "metadata": {},
     "output_type": "execute_result"
    }
   ],
   "source": [
    "# Objectos aninhados (nested)\n",
    "r.hset('person', 'name', 'Ram')\n",
    "r.hget('person', 'name') # b'Ram'"
   ]
  },
  {
   "cell_type": "markdown",
   "id": "9b6a28c6",
   "metadata": {},
   "source": [
    "### Sets ordenados"
   ]
  },
  {
   "cell_type": "code",
   "execution_count": 24,
   "id": "cdba6da7",
   "metadata": {},
   "outputs": [
    {
     "data": {
      "text/plain": [
       "1"
      ]
     },
     "execution_count": 24,
     "metadata": {},
     "output_type": "execute_result"
    }
   ],
   "source": [
    "r.zadd('test:scores', {'testid:9000': 50})\n",
    "r.zadd('test:scores', {'testid:8000': 20})\n",
    "r.zadd('test:scores', {'testid:7000': 45})"
   ]
  },
  {
   "cell_type": "code",
   "execution_count": 25,
   "id": "39947e7c",
   "metadata": {},
   "outputs": [
    {
     "data": {
      "text/plain": [
       "1"
      ]
     },
     "execution_count": 25,
     "metadata": {},
     "output_type": "execute_result"
    }
   ],
   "source": [
    "r.zadd('test:scores', {'testid:7001': 10})"
   ]
  },
  {
   "cell_type": "code",
   "execution_count": 26,
   "id": "81782927",
   "metadata": {
    "scrolled": true
   },
   "outputs": [
    {
     "data": {
      "text/plain": [
       "[(b'testid:7001', 10.0),\n",
       " (b'testid:8000', 20.0),\n",
       " (b'testid:7000', 45.0),\n",
       " (b'testid:9000', 50.0)]"
      ]
     },
     "execution_count": 26,
     "metadata": {},
     "output_type": "execute_result"
    }
   ],
   "source": [
    "# Ordenar\n",
    "r.zrange('test:scores', 0, -1, withscores=True)"
   ]
  },
  {
   "cell_type": "code",
   "execution_count": 27,
   "id": "ac2b25e0",
   "metadata": {},
   "outputs": [
    {
     "data": {
      "text/plain": [
       "2"
      ]
     },
     "execution_count": 27,
     "metadata": {},
     "output_type": "execute_result"
    }
   ],
   "source": [
    "r.zadd('test:scores', {'testid:9002': 50, 'b': 2})"
   ]
  },
  {
   "cell_type": "code",
   "execution_count": 28,
   "id": "2dba07aa",
   "metadata": {
    "scrolled": true
   },
   "outputs": [
    {
     "data": {
      "text/plain": [
       "[(b'b', 2.0),\n",
       " (b'testid:7001', 10.0),\n",
       " (b'testid:8000', 20.0),\n",
       " (b'testid:7000', 45.0),\n",
       " (b'testid:9000', 50.0),\n",
       " (b'testid:9002', 50.0)]"
      ]
     },
     "execution_count": 28,
     "metadata": {},
     "output_type": "execute_result"
    }
   ],
   "source": [
    "r.zrange('test:scores', 0, -1, withscores=True)"
   ]
  },
  {
   "cell_type": "code",
   "execution_count": 29,
   "id": "5e5011a0",
   "metadata": {},
   "outputs": [
    {
     "data": {
      "text/plain": [
       "1"
      ]
     },
     "execution_count": 29,
     "metadata": {},
     "output_type": "execute_result"
    }
   ],
   "source": [
    "# Apagar\n",
    "r.delete('test:scores')"
   ]
  },
  {
   "cell_type": "code",
   "execution_count": 30,
   "id": "04bb9f96",
   "metadata": {},
   "outputs": [
    {
     "data": {
      "text/plain": [
       "[]"
      ]
     },
     "execution_count": 30,
     "metadata": {},
     "output_type": "execute_result"
    }
   ],
   "source": [
    "r.zrange('test:scores', 0, -1, withscores=True)"
   ]
  },
  {
   "cell_type": "markdown",
   "id": "f42e67bc",
   "metadata": {},
   "source": [
    "## Listas\n",
    "\n",
    "Cria listas onde a chave pode se repetir"
   ]
  },
  {
   "cell_type": "code",
   "execution_count": 31,
   "id": "8aad674d",
   "metadata": {},
   "outputs": [
    {
     "data": {
      "text/plain": [
       "3"
      ]
     },
     "execution_count": 31,
     "metadata": {},
     "output_type": "execute_result"
    }
   ],
   "source": [
    "r.rpush('ferramentas', 'martelo')\n",
    "r.rpush('ferramentas', 'serrote')\n",
    "r.rpush('ferramentas', 'machado')"
   ]
  },
  {
   "cell_type": "code",
   "execution_count": 32,
   "id": "808e5998",
   "metadata": {},
   "outputs": [
    {
     "data": {
      "text/plain": [
       "3"
      ]
     },
     "execution_count": 32,
     "metadata": {},
     "output_type": "execute_result"
    }
   ],
   "source": [
    "# Quantidade de entradas para a chave ferramentas\n",
    "r.llen('ferramentas')"
   ]
  },
  {
   "cell_type": "code",
   "execution_count": 33,
   "id": "844d8870",
   "metadata": {},
   "outputs": [],
   "source": [
    "# Entrada para ferramentas no indice 1\n",
    "r.lindex('ferramentas', 3)"
   ]
  },
  {
   "cell_type": "code",
   "execution_count": 34,
   "id": "dd9945d8",
   "metadata": {},
   "outputs": [
    {
     "data": {
      "text/plain": [
       "[b'martelo', b'serrote', b'machado']"
      ]
     },
     "execution_count": 34,
     "metadata": {},
     "output_type": "execute_result"
    }
   ],
   "source": [
    "# Show list from key\n",
    "r.lrange('ferramentas', 0, -1)"
   ]
  },
  {
   "cell_type": "code",
   "execution_count": 35,
   "id": "33d8b521",
   "metadata": {},
   "outputs": [
    {
     "name": "stdout",
     "output_type": "stream",
     "text": [
      "b'machado'\n",
      "b'serrote'\n",
      "b'martelo'\n"
     ]
    }
   ],
   "source": [
    "# Print the contents of the Redis list and erase\n",
    "while(r.llen('ferramentas')!=0):\n",
    "    print(r.rpop('ferramentas'))"
   ]
  },
  {
   "cell_type": "code",
   "execution_count": 131,
   "id": "1de94a26",
   "metadata": {},
   "outputs": [
    {
     "data": {
      "text/plain": [
       "0"
      ]
     },
     "execution_count": 131,
     "metadata": {},
     "output_type": "execute_result"
    }
   ],
   "source": [
    "# Deletar lista\n",
    "r.delete('ferramentas')"
   ]
  },
  {
   "cell_type": "code",
   "execution_count": 132,
   "id": "97c0bb22",
   "metadata": {},
   "outputs": [
    {
     "data": {
      "text/plain": [
       "0"
      ]
     },
     "execution_count": 132,
     "metadata": {},
     "output_type": "execute_result"
    }
   ],
   "source": [
    "# Quantidade de entradas para a chave ferramentas\n",
    "r.llen('ferramentas')"
   ]
  },
  {
   "cell_type": "code",
   "execution_count": 133,
   "id": "03944933",
   "metadata": {},
   "outputs": [
    {
     "data": {
      "text/plain": [
       "5"
      ]
     },
     "execution_count": 133,
     "metadata": {},
     "output_type": "execute_result"
    }
   ],
   "source": [
    "# Guardar uma lista\n",
    "programming_languages = ['python', 'C#', 'C++', 'C++', 'javascript']\n",
    "r.lpush('languages', *programming_languages)"
   ]
  },
  {
   "cell_type": "code",
   "execution_count": 134,
   "id": "d4cf25ad",
   "metadata": {},
   "outputs": [
    {
     "data": {
      "text/plain": [
       "5"
      ]
     },
     "execution_count": 134,
     "metadata": {},
     "output_type": "execute_result"
    }
   ],
   "source": [
    "# Guardar uma lista\n",
    "programming_languages = ['a', 'b', 'c', 'd', 'e']\n",
    "r.lpush('letras', *programming_languages)"
   ]
  },
  {
   "cell_type": "code",
   "execution_count": 135,
   "id": "e2671703",
   "metadata": {},
   "outputs": [
    {
     "data": {
      "text/plain": [
       "[b'javascript', b'C++', b'C++', b'C#', b'python']"
      ]
     },
     "execution_count": 135,
     "metadata": {},
     "output_type": "execute_result"
    }
   ],
   "source": [
    "r.lrange('languages', 0, -1)"
   ]
  },
  {
   "cell_type": "code",
   "execution_count": 136,
   "id": "7b2ff788",
   "metadata": {},
   "outputs": [
    {
     "data": {
      "text/plain": [
       "[b'e', b'd', b'c', b'b', b'a']"
      ]
     },
     "execution_count": 136,
     "metadata": {},
     "output_type": "execute_result"
    }
   ],
   "source": [
    "r.lrange('letras', 0, -1)"
   ]
  },
  {
   "cell_type": "code",
   "execution_count": 137,
   "id": "9be72086",
   "metadata": {},
   "outputs": [
    {
     "data": {
      "text/plain": [
       "1"
      ]
     },
     "execution_count": 137,
     "metadata": {},
     "output_type": "execute_result"
    }
   ],
   "source": [
    "# Deletar lista\n",
    "r.delete('languages')\n",
    "r.delete('letras')"
   ]
  },
  {
   "cell_type": "code",
   "execution_count": 138,
   "id": "df628592",
   "metadata": {},
   "outputs": [
    {
     "data": {
      "text/plain": [
       "[]"
      ]
     },
     "execution_count": 138,
     "metadata": {},
     "output_type": "execute_result"
    }
   ],
   "source": [
    "r.lrange('languages', 0, -1)"
   ]
  },
  {
   "cell_type": "code",
   "execution_count": 139,
   "id": "77ee35b8",
   "metadata": {},
   "outputs": [
    {
     "data": {
      "text/plain": [
       "[]"
      ]
     },
     "execution_count": 139,
     "metadata": {},
     "output_type": "execute_result"
    }
   ],
   "source": [
    "r.lrange('letras', 0, -1)"
   ]
  },
  {
   "attachments": {},
   "cell_type": "markdown",
   "id": "83ba04f3",
   "metadata": {},
   "source": [
    "# Queue"
   ]
  },
  {
   "cell_type": "code",
   "execution_count": null,
   "id": "84005e87",
   "metadata": {},
   "outputs": [],
   "source": []
  },
  {
   "cell_type": "code",
   "execution_count": 49,
   "id": "3a00dfd5",
   "metadata": {},
   "outputs": [
    {
     "name": "stdout",
     "output_type": "stream",
     "text": [
      "1\n",
      "2\n",
      "3\n",
      "4\n",
      "4\n"
     ]
    }
   ],
   "source": [
    "print(r.lpush('pedidos', 'calabreza'))\n",
    "print(r.lpush('pedidos', 'calabreza'))\n",
    "print(r.lpush('pedidos', 'margherita'))\n",
    "print(r.lpush('pedidos', 'spaghetti'))\n",
    "print(r.llen('pedidos'))"
   ]
  },
  {
   "cell_type": "code",
   "execution_count": 50,
   "id": "fa9982a2",
   "metadata": {},
   "outputs": [
    {
     "name": "stdout",
     "output_type": "stream",
     "text": [
      "1\n",
      "2\n",
      "3\n",
      "3\n"
     ]
    }
   ],
   "source": [
    "print(r.lpush('compras', 'carne'))\n",
    "print(r.lpush('compras', 'arroz'))\n",
    "print(r.lpush('compras', 'frango'))\n",
    "print(r.llen('compras'))"
   ]
  },
  {
   "cell_type": "code",
   "execution_count": 51,
   "id": "7af47666",
   "metadata": {},
   "outputs": [
    {
     "name": "stdout",
     "output_type": "stream",
     "text": [
      "b'calabreza'\n",
      "b'calabreza'\n",
      "b'margherita'\n",
      "b'spaghetti'\n",
      "None\n",
      "0\n"
     ]
    }
   ],
   "source": [
    "print(r.rpop('pedidos'))\n",
    "print(r.rpop('pedidos'))\n",
    "print(r.rpop('pedidos'))\n",
    "print(r.rpop('pedidos'))\n",
    "print(r.rpop('pedidos'))\n",
    "print(r.llen('pedidos'))\n"
   ]
  },
  {
   "cell_type": "code",
   "execution_count": 52,
   "id": "947957d0",
   "metadata": {},
   "outputs": [
    {
     "name": "stdout",
     "output_type": "stream",
     "text": [
      "b'carne'\n",
      "b'arroz'\n",
      "b'frango'\n",
      "None\n",
      "0\n"
     ]
    }
   ],
   "source": [
    "print(r.rpop('compras'))\n",
    "print(r.rpop('compras'))\n",
    "print(r.rpop('compras'))\n",
    "print(r.rpop('compras'))\n",
    "print(r.llen('compras'))"
   ]
  },
  {
   "cell_type": "markdown",
   "id": "cb2bae35",
   "metadata": {},
   "source": [
    "## Publish/Subscribe messaging paradigm"
   ]
  },
  {
   "cell_type": "code",
   "execution_count": 24,
   "id": "a3735ae8",
   "metadata": {},
   "outputs": [],
   "source": [
    "# Subscribe\n",
    "p = r.pubsub()\n",
    "p.subscribe('my-first-channel', 'my-second-channel')"
   ]
  },
  {
   "cell_type": "code",
   "execution_count": 37,
   "id": "296f28f8",
   "metadata": {},
   "outputs": [
    {
     "data": {
      "text/plain": [
       "2"
      ]
     },
     "execution_count": 37,
     "metadata": {},
     "output_type": "execute_result"
    }
   ],
   "source": [
    "r.publish('my-first-channel', 'emerson')\n",
    "r.publish('my-first-channel', 'emerson')\n",
    "r.publish('my-first-channel', 'testes')"
   ]
  },
  {
   "cell_type": "code",
   "execution_count": 38,
   "id": "0d91539d",
   "metadata": {},
   "outputs": [
    {
     "data": {
      "text/plain": [
       "2"
      ]
     },
     "execution_count": 38,
     "metadata": {},
     "output_type": "execute_result"
    }
   ],
   "source": [
    "r.publish('my-second-channel', 12)\n",
    "r.publish('my-second-channel', 'fila')"
   ]
  },
  {
   "cell_type": "code",
   "execution_count": 39,
   "id": "59bb5aca",
   "metadata": {},
   "outputs": [
    {
     "name": "stdout",
     "output_type": "stream",
     "text": [
      "{'type': 'message', 'pattern': None, 'channel': b'my-first-channel', 'data': b'emerson'}\n",
      "{'type': 'message', 'pattern': None, 'channel': b'my-first-channel', 'data': b'emerson'}\n",
      "{'type': 'message', 'pattern': None, 'channel': b'my-first-channel', 'data': b'testes'}\n",
      "{'type': 'message', 'pattern': None, 'channel': b'my-second-channel', 'data': b'12'}\n",
      "{'type': 'message', 'pattern': None, 'channel': b'my-second-channel', 'data': b'fila'}\n"
     ]
    }
   ],
   "source": [
    "while(True):\n",
    "    message = p.get_message()\n",
    "    if not message:\n",
    "        break\n",
    "    print(message)"
   ]
  },
  {
   "cell_type": "code",
   "execution_count": null,
   "id": "39692079",
   "metadata": {},
   "outputs": [],
   "source": []
  }
 ],
 "metadata": {
  "kernelspec": {
   "display_name": "Python 3 (ipykernel)",
   "language": "python",
   "name": "python3"
  },
  "language_info": {
   "codemirror_mode": {
    "name": "ipython",
    "version": 3
   },
   "file_extension": ".py",
   "mimetype": "text/x-python",
   "name": "python",
   "nbconvert_exporter": "python",
   "pygments_lexer": "ipython3",
   "version": "3.10.9"
  }
 },
 "nbformat": 4,
 "nbformat_minor": 5
}
